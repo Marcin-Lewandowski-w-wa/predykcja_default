{
 "cells": [
  {
   "cell_type": "markdown",
   "id": "cd8b5734",
   "metadata": {},
   "source": [
    "### Przygotowanie zbioru danych"
   ]
  },
  {
   "cell_type": "code",
   "execution_count": 43,
   "id": "e0f69fc2",
   "metadata": {},
   "outputs": [],
   "source": [
    "import pandas as pd\n",
    "import numpy as np\n",
    "\n",
    "pd.set_option('display.max_columns', None)\n",
    "\n",
    "loans = pd.read_csv('D:/R/Studia/Kaggle/loand default praca/Loan_Default.csv')\n",
    "\n",
    "### zaczytanie danych ze strony: https://www.kaggle.com/datasets/yasserh/loan-default-dataset"
   ]
  },
  {
   "cell_type": "markdown",
   "id": "d7a333d2",
   "metadata": {},
   "source": [
    "#### Nazwy zmiennych z małej litery"
   ]
  },
  {
   "cell_type": "code",
   "execution_count": 44,
   "id": "a47855c9",
   "metadata": {},
   "outputs": [],
   "source": [
    "loans.columns = loans.columns.str.lower()"
   ]
  },
  {
   "cell_type": "markdown",
   "id": "605f31d4",
   "metadata": {},
   "source": [
    "#### Usunięcie duplikatów"
   ]
  },
  {
   "cell_type": "code",
   "execution_count": 45,
   "id": "b4938fd7",
   "metadata": {},
   "outputs": [
    {
     "data": {
      "text/plain": [
       "0"
      ]
     },
     "execution_count": 45,
     "metadata": {},
     "output_type": "execute_result"
    }
   ],
   "source": [
    "loans.duplicated().sum()"
   ]
  },
  {
   "cell_type": "code",
   "execution_count": 46,
   "id": "c81c3e4c",
   "metadata": {},
   "outputs": [],
   "source": [
    "loans.drop_duplicates(inplace=True)"
   ]
  },
  {
   "cell_type": "markdown",
   "id": "ece5c6d6",
   "metadata": {},
   "source": [
    "#### Zastąpienie pustych wartości średnią"
   ]
  },
  {
   "cell_type": "code",
   "execution_count": 47,
   "id": "a5a373ca",
   "metadata": {},
   "outputs": [
    {
     "name": "stderr",
     "output_type": "stream",
     "text": [
      "C:\\Users\\marcl\\AppData\\Local\\Temp\\ipykernel_19884\\1098397668.py:3: FutureWarning: Dropping of nuisance columns in DataFrame reductions (with 'numeric_only=None') is deprecated; in a future version this will raise TypeError.  Select only valid columns before calling the reduction.\n",
      "  loans = loans.fillna(loans.mean())\n"
     ]
    },
    {
     "data": {
      "text/plain": [
       "id                              0\n",
       "year                            0\n",
       "loan_limit                   3344\n",
       "gender                          0\n",
       "approv_in_adv                 908\n",
       "loan_type                       0\n",
       "loan_purpose                  134\n",
       "credit_worthiness               0\n",
       "open_credit                     0\n",
       "business_or_commercial          0\n",
       "loan_amount                     0\n",
       "rate_of_interest                0\n",
       "interest_rate_spread            0\n",
       "upfront_charges                 0\n",
       "term                            0\n",
       "neg_ammortization             121\n",
       "interest_only                   0\n",
       "lump_sum_payment                0\n",
       "property_value                  0\n",
       "construction_type               0\n",
       "occupancy_type                  0\n",
       "secured_by                      0\n",
       "total_units                     0\n",
       "income                          0\n",
       "credit_type                     0\n",
       "credit_score                    0\n",
       "co-applicant_credit_type        0\n",
       "age                           200\n",
       "submission_of_application     200\n",
       "ltv                             0\n",
       "region                          0\n",
       "security_type                   0\n",
       "status                          0\n",
       "dtir1                           0\n",
       "dtype: int64"
      ]
     },
     "execution_count": 47,
     "metadata": {},
     "output_type": "execute_result"
    }
   ],
   "source": [
    "loans.isna().sum()\n",
    "\n",
    "loans = loans.fillna(loans.mean())\n",
    "\n",
    "loans.isna().sum() "
   ]
  },
  {
   "cell_type": "markdown",
   "id": "2e79ab0d",
   "metadata": {},
   "source": [
    "#### Zastąpienie cechy age najczęściej występującą wartością"
   ]
  },
  {
   "cell_type": "code",
   "execution_count": 48,
   "id": "ee591520",
   "metadata": {},
   "outputs": [],
   "source": [
    "from sklearn.impute import SimpleImputer\n",
    "\n",
    "simpimp = SimpleImputer(strategy = 'most_frequent')\n",
    "loans[['age']] = simpimp.fit_transform(loans[['age']])"
   ]
  },
  {
   "cell_type": "markdown",
   "id": "e7f70b87",
   "metadata": {},
   "source": [
    "#### Kodowanie gorącojedynkowe"
   ]
  },
  {
   "cell_type": "code",
   "execution_count": 49,
   "id": "33b17357",
   "metadata": {},
   "outputs": [
    {
     "data": {
      "text/html": [
       "<div>\n",
       "<style scoped>\n",
       "    .dataframe tbody tr th:only-of-type {\n",
       "        vertical-align: middle;\n",
       "    }\n",
       "\n",
       "    .dataframe tbody tr th {\n",
       "        vertical-align: top;\n",
       "    }\n",
       "\n",
       "    .dataframe thead th {\n",
       "        text-align: right;\n",
       "    }\n",
       "</style>\n",
       "<table border=\"1\" class=\"dataframe\">\n",
       "  <thead>\n",
       "    <tr style=\"text-align: right;\">\n",
       "      <th></th>\n",
       "      <th>id</th>\n",
       "      <th>year</th>\n",
       "      <th>loan_limit</th>\n",
       "      <th>gender</th>\n",
       "      <th>approv_in_adv</th>\n",
       "      <th>loan_type</th>\n",
       "      <th>loan_purpose</th>\n",
       "      <th>credit_worthiness</th>\n",
       "      <th>open_credit</th>\n",
       "      <th>business_or_commercial</th>\n",
       "      <th>loan_amount</th>\n",
       "      <th>rate_of_interest</th>\n",
       "      <th>interest_rate_spread</th>\n",
       "      <th>upfront_charges</th>\n",
       "      <th>term</th>\n",
       "      <th>neg_ammortization</th>\n",
       "      <th>interest_only</th>\n",
       "      <th>lump_sum_payment</th>\n",
       "      <th>property_value</th>\n",
       "      <th>construction_type</th>\n",
       "      <th>occupancy_type</th>\n",
       "      <th>secured_by</th>\n",
       "      <th>total_units</th>\n",
       "      <th>income</th>\n",
       "      <th>credit_type</th>\n",
       "      <th>credit_score</th>\n",
       "      <th>co-applicant_credit_type</th>\n",
       "      <th>age</th>\n",
       "      <th>submission_of_application</th>\n",
       "      <th>ltv</th>\n",
       "      <th>region</th>\n",
       "      <th>security_type</th>\n",
       "      <th>status</th>\n",
       "      <th>dtir1</th>\n",
       "    </tr>\n",
       "  </thead>\n",
       "  <tbody>\n",
       "    <tr>\n",
       "      <th>0</th>\n",
       "      <td>24890</td>\n",
       "      <td>2019</td>\n",
       "      <td>cf</td>\n",
       "      <td>Sex Not Available</td>\n",
       "      <td>nopre</td>\n",
       "      <td>type1</td>\n",
       "      <td>p1</td>\n",
       "      <td>l1</td>\n",
       "      <td>nopc</td>\n",
       "      <td>nob/c</td>\n",
       "      <td>116500</td>\n",
       "      <td>4.045476</td>\n",
       "      <td>0.441656</td>\n",
       "      <td>3224.996127</td>\n",
       "      <td>360.0</td>\n",
       "      <td>not_neg</td>\n",
       "      <td>not_int</td>\n",
       "      <td>not_lpsm</td>\n",
       "      <td>118000.000000</td>\n",
       "      <td>sb</td>\n",
       "      <td>pr</td>\n",
       "      <td>home</td>\n",
       "      <td>1U</td>\n",
       "      <td>1740.0</td>\n",
       "      <td>EXP</td>\n",
       "      <td>758</td>\n",
       "      <td>CIB</td>\n",
       "      <td>25-34</td>\n",
       "      <td>to_inst</td>\n",
       "      <td>98.728814</td>\n",
       "      <td>south</td>\n",
       "      <td>direct</td>\n",
       "      <td>1</td>\n",
       "      <td>45.000000</td>\n",
       "    </tr>\n",
       "    <tr>\n",
       "      <th>1</th>\n",
       "      <td>24891</td>\n",
       "      <td>2019</td>\n",
       "      <td>cf</td>\n",
       "      <td>Male</td>\n",
       "      <td>nopre</td>\n",
       "      <td>type2</td>\n",
       "      <td>p1</td>\n",
       "      <td>l1</td>\n",
       "      <td>nopc</td>\n",
       "      <td>b/c</td>\n",
       "      <td>206500</td>\n",
       "      <td>4.045476</td>\n",
       "      <td>0.441656</td>\n",
       "      <td>3224.996127</td>\n",
       "      <td>360.0</td>\n",
       "      <td>not_neg</td>\n",
       "      <td>not_int</td>\n",
       "      <td>lpsm</td>\n",
       "      <td>497893.465696</td>\n",
       "      <td>sb</td>\n",
       "      <td>pr</td>\n",
       "      <td>home</td>\n",
       "      <td>1U</td>\n",
       "      <td>4980.0</td>\n",
       "      <td>EQUI</td>\n",
       "      <td>552</td>\n",
       "      <td>EXP</td>\n",
       "      <td>55-64</td>\n",
       "      <td>to_inst</td>\n",
       "      <td>72.746457</td>\n",
       "      <td>North</td>\n",
       "      <td>direct</td>\n",
       "      <td>1</td>\n",
       "      <td>37.732932</td>\n",
       "    </tr>\n",
       "    <tr>\n",
       "      <th>2</th>\n",
       "      <td>24892</td>\n",
       "      <td>2019</td>\n",
       "      <td>cf</td>\n",
       "      <td>Male</td>\n",
       "      <td>pre</td>\n",
       "      <td>type1</td>\n",
       "      <td>p1</td>\n",
       "      <td>l1</td>\n",
       "      <td>nopc</td>\n",
       "      <td>nob/c</td>\n",
       "      <td>406500</td>\n",
       "      <td>4.560000</td>\n",
       "      <td>0.200000</td>\n",
       "      <td>595.000000</td>\n",
       "      <td>360.0</td>\n",
       "      <td>neg_amm</td>\n",
       "      <td>not_int</td>\n",
       "      <td>not_lpsm</td>\n",
       "      <td>508000.000000</td>\n",
       "      <td>sb</td>\n",
       "      <td>pr</td>\n",
       "      <td>home</td>\n",
       "      <td>1U</td>\n",
       "      <td>9480.0</td>\n",
       "      <td>EXP</td>\n",
       "      <td>834</td>\n",
       "      <td>CIB</td>\n",
       "      <td>35-44</td>\n",
       "      <td>to_inst</td>\n",
       "      <td>80.019685</td>\n",
       "      <td>south</td>\n",
       "      <td>direct</td>\n",
       "      <td>0</td>\n",
       "      <td>46.000000</td>\n",
       "    </tr>\n",
       "    <tr>\n",
       "      <th>3</th>\n",
       "      <td>24893</td>\n",
       "      <td>2019</td>\n",
       "      <td>cf</td>\n",
       "      <td>Male</td>\n",
       "      <td>nopre</td>\n",
       "      <td>type1</td>\n",
       "      <td>p4</td>\n",
       "      <td>l1</td>\n",
       "      <td>nopc</td>\n",
       "      <td>nob/c</td>\n",
       "      <td>456500</td>\n",
       "      <td>4.250000</td>\n",
       "      <td>0.681000</td>\n",
       "      <td>3224.996127</td>\n",
       "      <td>360.0</td>\n",
       "      <td>not_neg</td>\n",
       "      <td>not_int</td>\n",
       "      <td>not_lpsm</td>\n",
       "      <td>658000.000000</td>\n",
       "      <td>sb</td>\n",
       "      <td>pr</td>\n",
       "      <td>home</td>\n",
       "      <td>1U</td>\n",
       "      <td>11880.0</td>\n",
       "      <td>EXP</td>\n",
       "      <td>587</td>\n",
       "      <td>CIB</td>\n",
       "      <td>45-54</td>\n",
       "      <td>not_inst</td>\n",
       "      <td>69.376900</td>\n",
       "      <td>North</td>\n",
       "      <td>direct</td>\n",
       "      <td>0</td>\n",
       "      <td>42.000000</td>\n",
       "    </tr>\n",
       "    <tr>\n",
       "      <th>4</th>\n",
       "      <td>24894</td>\n",
       "      <td>2019</td>\n",
       "      <td>cf</td>\n",
       "      <td>Joint</td>\n",
       "      <td>pre</td>\n",
       "      <td>type1</td>\n",
       "      <td>p1</td>\n",
       "      <td>l1</td>\n",
       "      <td>nopc</td>\n",
       "      <td>nob/c</td>\n",
       "      <td>696500</td>\n",
       "      <td>4.000000</td>\n",
       "      <td>0.304200</td>\n",
       "      <td>0.000000</td>\n",
       "      <td>360.0</td>\n",
       "      <td>not_neg</td>\n",
       "      <td>not_int</td>\n",
       "      <td>not_lpsm</td>\n",
       "      <td>758000.000000</td>\n",
       "      <td>sb</td>\n",
       "      <td>pr</td>\n",
       "      <td>home</td>\n",
       "      <td>1U</td>\n",
       "      <td>10440.0</td>\n",
       "      <td>CRIF</td>\n",
       "      <td>602</td>\n",
       "      <td>EXP</td>\n",
       "      <td>25-34</td>\n",
       "      <td>not_inst</td>\n",
       "      <td>91.886544</td>\n",
       "      <td>North</td>\n",
       "      <td>direct</td>\n",
       "      <td>0</td>\n",
       "      <td>39.000000</td>\n",
       "    </tr>\n",
       "    <tr>\n",
       "      <th>...</th>\n",
       "      <td>...</td>\n",
       "      <td>...</td>\n",
       "      <td>...</td>\n",
       "      <td>...</td>\n",
       "      <td>...</td>\n",
       "      <td>...</td>\n",
       "      <td>...</td>\n",
       "      <td>...</td>\n",
       "      <td>...</td>\n",
       "      <td>...</td>\n",
       "      <td>...</td>\n",
       "      <td>...</td>\n",
       "      <td>...</td>\n",
       "      <td>...</td>\n",
       "      <td>...</td>\n",
       "      <td>...</td>\n",
       "      <td>...</td>\n",
       "      <td>...</td>\n",
       "      <td>...</td>\n",
       "      <td>...</td>\n",
       "      <td>...</td>\n",
       "      <td>...</td>\n",
       "      <td>...</td>\n",
       "      <td>...</td>\n",
       "      <td>...</td>\n",
       "      <td>...</td>\n",
       "      <td>...</td>\n",
       "      <td>...</td>\n",
       "      <td>...</td>\n",
       "      <td>...</td>\n",
       "      <td>...</td>\n",
       "      <td>...</td>\n",
       "      <td>...</td>\n",
       "      <td>...</td>\n",
       "    </tr>\n",
       "    <tr>\n",
       "      <th>148665</th>\n",
       "      <td>173555</td>\n",
       "      <td>2019</td>\n",
       "      <td>cf</td>\n",
       "      <td>Sex Not Available</td>\n",
       "      <td>nopre</td>\n",
       "      <td>type1</td>\n",
       "      <td>p3</td>\n",
       "      <td>l1</td>\n",
       "      <td>nopc</td>\n",
       "      <td>nob/c</td>\n",
       "      <td>436500</td>\n",
       "      <td>3.125000</td>\n",
       "      <td>0.257100</td>\n",
       "      <td>9960.000000</td>\n",
       "      <td>180.0</td>\n",
       "      <td>not_neg</td>\n",
       "      <td>not_int</td>\n",
       "      <td>not_lpsm</td>\n",
       "      <td>608000.000000</td>\n",
       "      <td>sb</td>\n",
       "      <td>pr</td>\n",
       "      <td>home</td>\n",
       "      <td>1U</td>\n",
       "      <td>7860.0</td>\n",
       "      <td>CIB</td>\n",
       "      <td>659</td>\n",
       "      <td>EXP</td>\n",
       "      <td>55-64</td>\n",
       "      <td>to_inst</td>\n",
       "      <td>71.792763</td>\n",
       "      <td>south</td>\n",
       "      <td>direct</td>\n",
       "      <td>0</td>\n",
       "      <td>48.000000</td>\n",
       "    </tr>\n",
       "    <tr>\n",
       "      <th>148666</th>\n",
       "      <td>173556</td>\n",
       "      <td>2019</td>\n",
       "      <td>cf</td>\n",
       "      <td>Male</td>\n",
       "      <td>nopre</td>\n",
       "      <td>type1</td>\n",
       "      <td>p1</td>\n",
       "      <td>l1</td>\n",
       "      <td>nopc</td>\n",
       "      <td>nob/c</td>\n",
       "      <td>586500</td>\n",
       "      <td>5.190000</td>\n",
       "      <td>0.854400</td>\n",
       "      <td>0.000000</td>\n",
       "      <td>360.0</td>\n",
       "      <td>not_neg</td>\n",
       "      <td>not_int</td>\n",
       "      <td>not_lpsm</td>\n",
       "      <td>788000.000000</td>\n",
       "      <td>sb</td>\n",
       "      <td>ir</td>\n",
       "      <td>home</td>\n",
       "      <td>4U</td>\n",
       "      <td>7140.0</td>\n",
       "      <td>CIB</td>\n",
       "      <td>569</td>\n",
       "      <td>CIB</td>\n",
       "      <td>25-34</td>\n",
       "      <td>not_inst</td>\n",
       "      <td>74.428934</td>\n",
       "      <td>south</td>\n",
       "      <td>direct</td>\n",
       "      <td>0</td>\n",
       "      <td>15.000000</td>\n",
       "    </tr>\n",
       "    <tr>\n",
       "      <th>148667</th>\n",
       "      <td>173557</td>\n",
       "      <td>2019</td>\n",
       "      <td>cf</td>\n",
       "      <td>Male</td>\n",
       "      <td>nopre</td>\n",
       "      <td>type1</td>\n",
       "      <td>p4</td>\n",
       "      <td>l1</td>\n",
       "      <td>nopc</td>\n",
       "      <td>nob/c</td>\n",
       "      <td>446500</td>\n",
       "      <td>3.125000</td>\n",
       "      <td>0.081600</td>\n",
       "      <td>1226.640000</td>\n",
       "      <td>180.0</td>\n",
       "      <td>not_neg</td>\n",
       "      <td>not_int</td>\n",
       "      <td>not_lpsm</td>\n",
       "      <td>728000.000000</td>\n",
       "      <td>sb</td>\n",
       "      <td>pr</td>\n",
       "      <td>home</td>\n",
       "      <td>1U</td>\n",
       "      <td>6900.0</td>\n",
       "      <td>CIB</td>\n",
       "      <td>702</td>\n",
       "      <td>EXP</td>\n",
       "      <td>45-54</td>\n",
       "      <td>not_inst</td>\n",
       "      <td>61.332418</td>\n",
       "      <td>North</td>\n",
       "      <td>direct</td>\n",
       "      <td>0</td>\n",
       "      <td>49.000000</td>\n",
       "    </tr>\n",
       "    <tr>\n",
       "      <th>148668</th>\n",
       "      <td>173558</td>\n",
       "      <td>2019</td>\n",
       "      <td>cf</td>\n",
       "      <td>Female</td>\n",
       "      <td>nopre</td>\n",
       "      <td>type1</td>\n",
       "      <td>p4</td>\n",
       "      <td>l1</td>\n",
       "      <td>nopc</td>\n",
       "      <td>nob/c</td>\n",
       "      <td>196500</td>\n",
       "      <td>3.500000</td>\n",
       "      <td>0.582400</td>\n",
       "      <td>4323.330000</td>\n",
       "      <td>180.0</td>\n",
       "      <td>not_neg</td>\n",
       "      <td>not_int</td>\n",
       "      <td>not_lpsm</td>\n",
       "      <td>278000.000000</td>\n",
       "      <td>sb</td>\n",
       "      <td>pr</td>\n",
       "      <td>home</td>\n",
       "      <td>1U</td>\n",
       "      <td>7140.0</td>\n",
       "      <td>EXP</td>\n",
       "      <td>737</td>\n",
       "      <td>EXP</td>\n",
       "      <td>55-64</td>\n",
       "      <td>to_inst</td>\n",
       "      <td>70.683453</td>\n",
       "      <td>North</td>\n",
       "      <td>direct</td>\n",
       "      <td>0</td>\n",
       "      <td>29.000000</td>\n",
       "    </tr>\n",
       "    <tr>\n",
       "      <th>148669</th>\n",
       "      <td>173559</td>\n",
       "      <td>2019</td>\n",
       "      <td>cf</td>\n",
       "      <td>Female</td>\n",
       "      <td>nopre</td>\n",
       "      <td>type1</td>\n",
       "      <td>p3</td>\n",
       "      <td>l1</td>\n",
       "      <td>nopc</td>\n",
       "      <td>nob/c</td>\n",
       "      <td>406500</td>\n",
       "      <td>4.375000</td>\n",
       "      <td>1.387100</td>\n",
       "      <td>6000.000000</td>\n",
       "      <td>240.0</td>\n",
       "      <td>not_neg</td>\n",
       "      <td>not_int</td>\n",
       "      <td>not_lpsm</td>\n",
       "      <td>558000.000000</td>\n",
       "      <td>sb</td>\n",
       "      <td>pr</td>\n",
       "      <td>home</td>\n",
       "      <td>1U</td>\n",
       "      <td>7260.0</td>\n",
       "      <td>CIB</td>\n",
       "      <td>830</td>\n",
       "      <td>CIB</td>\n",
       "      <td>45-54</td>\n",
       "      <td>not_inst</td>\n",
       "      <td>72.849462</td>\n",
       "      <td>North</td>\n",
       "      <td>direct</td>\n",
       "      <td>0</td>\n",
       "      <td>44.000000</td>\n",
       "    </tr>\n",
       "  </tbody>\n",
       "</table>\n",
       "<p>148670 rows × 34 columns</p>\n",
       "</div>"
      ],
      "text/plain": [
       "            id  year loan_limit             gender approv_in_adv loan_type  \\\n",
       "0        24890  2019         cf  Sex Not Available         nopre     type1   \n",
       "1        24891  2019         cf               Male         nopre     type2   \n",
       "2        24892  2019         cf               Male           pre     type1   \n",
       "3        24893  2019         cf               Male         nopre     type1   \n",
       "4        24894  2019         cf              Joint           pre     type1   \n",
       "...        ...   ...        ...                ...           ...       ...   \n",
       "148665  173555  2019         cf  Sex Not Available         nopre     type1   \n",
       "148666  173556  2019         cf               Male         nopre     type1   \n",
       "148667  173557  2019         cf               Male         nopre     type1   \n",
       "148668  173558  2019         cf             Female         nopre     type1   \n",
       "148669  173559  2019         cf             Female         nopre     type1   \n",
       "\n",
       "       loan_purpose credit_worthiness open_credit business_or_commercial  \\\n",
       "0                p1                l1        nopc                  nob/c   \n",
       "1                p1                l1        nopc                    b/c   \n",
       "2                p1                l1        nopc                  nob/c   \n",
       "3                p4                l1        nopc                  nob/c   \n",
       "4                p1                l1        nopc                  nob/c   \n",
       "...             ...               ...         ...                    ...   \n",
       "148665           p3                l1        nopc                  nob/c   \n",
       "148666           p1                l1        nopc                  nob/c   \n",
       "148667           p4                l1        nopc                  nob/c   \n",
       "148668           p4                l1        nopc                  nob/c   \n",
       "148669           p3                l1        nopc                  nob/c   \n",
       "\n",
       "        loan_amount  rate_of_interest  interest_rate_spread  upfront_charges  \\\n",
       "0            116500          4.045476              0.441656      3224.996127   \n",
       "1            206500          4.045476              0.441656      3224.996127   \n",
       "2            406500          4.560000              0.200000       595.000000   \n",
       "3            456500          4.250000              0.681000      3224.996127   \n",
       "4            696500          4.000000              0.304200         0.000000   \n",
       "...             ...               ...                   ...              ...   \n",
       "148665       436500          3.125000              0.257100      9960.000000   \n",
       "148666       586500          5.190000              0.854400         0.000000   \n",
       "148667       446500          3.125000              0.081600      1226.640000   \n",
       "148668       196500          3.500000              0.582400      4323.330000   \n",
       "148669       406500          4.375000              1.387100      6000.000000   \n",
       "\n",
       "         term neg_ammortization interest_only lump_sum_payment  \\\n",
       "0       360.0           not_neg       not_int         not_lpsm   \n",
       "1       360.0           not_neg       not_int             lpsm   \n",
       "2       360.0           neg_amm       not_int         not_lpsm   \n",
       "3       360.0           not_neg       not_int         not_lpsm   \n",
       "4       360.0           not_neg       not_int         not_lpsm   \n",
       "...       ...               ...           ...              ...   \n",
       "148665  180.0           not_neg       not_int         not_lpsm   \n",
       "148666  360.0           not_neg       not_int         not_lpsm   \n",
       "148667  180.0           not_neg       not_int         not_lpsm   \n",
       "148668  180.0           not_neg       not_int         not_lpsm   \n",
       "148669  240.0           not_neg       not_int         not_lpsm   \n",
       "\n",
       "        property_value construction_type occupancy_type secured_by  \\\n",
       "0        118000.000000                sb             pr       home   \n",
       "1        497893.465696                sb             pr       home   \n",
       "2        508000.000000                sb             pr       home   \n",
       "3        658000.000000                sb             pr       home   \n",
       "4        758000.000000                sb             pr       home   \n",
       "...                ...               ...            ...        ...   \n",
       "148665   608000.000000                sb             pr       home   \n",
       "148666   788000.000000                sb             ir       home   \n",
       "148667   728000.000000                sb             pr       home   \n",
       "148668   278000.000000                sb             pr       home   \n",
       "148669   558000.000000                sb             pr       home   \n",
       "\n",
       "       total_units   income credit_type  credit_score  \\\n",
       "0               1U   1740.0         EXP           758   \n",
       "1               1U   4980.0        EQUI           552   \n",
       "2               1U   9480.0         EXP           834   \n",
       "3               1U  11880.0         EXP           587   \n",
       "4               1U  10440.0        CRIF           602   \n",
       "...            ...      ...         ...           ...   \n",
       "148665          1U   7860.0         CIB           659   \n",
       "148666          4U   7140.0         CIB           569   \n",
       "148667          1U   6900.0         CIB           702   \n",
       "148668          1U   7140.0         EXP           737   \n",
       "148669          1U   7260.0         CIB           830   \n",
       "\n",
       "       co-applicant_credit_type    age submission_of_application        ltv  \\\n",
       "0                           CIB  25-34                   to_inst  98.728814   \n",
       "1                           EXP  55-64                   to_inst  72.746457   \n",
       "2                           CIB  35-44                   to_inst  80.019685   \n",
       "3                           CIB  45-54                  not_inst  69.376900   \n",
       "4                           EXP  25-34                  not_inst  91.886544   \n",
       "...                         ...    ...                       ...        ...   \n",
       "148665                      EXP  55-64                   to_inst  71.792763   \n",
       "148666                      CIB  25-34                  not_inst  74.428934   \n",
       "148667                      EXP  45-54                  not_inst  61.332418   \n",
       "148668                      EXP  55-64                   to_inst  70.683453   \n",
       "148669                      CIB  45-54                  not_inst  72.849462   \n",
       "\n",
       "       region security_type  status      dtir1  \n",
       "0       south        direct       1  45.000000  \n",
       "1       North        direct       1  37.732932  \n",
       "2       south        direct       0  46.000000  \n",
       "3       North        direct       0  42.000000  \n",
       "4       North        direct       0  39.000000  \n",
       "...       ...           ...     ...        ...  \n",
       "148665  south        direct       0  48.000000  \n",
       "148666  south        direct       0  15.000000  \n",
       "148667  North        direct       0  49.000000  \n",
       "148668  North        direct       0  29.000000  \n",
       "148669  North        direct       0  44.000000  \n",
       "\n",
       "[148670 rows x 34 columns]"
      ]
     },
     "execution_count": 49,
     "metadata": {},
     "output_type": "execute_result"
    }
   ],
   "source": [
    "loans"
   ]
  },
  {
   "cell_type": "code",
   "execution_count": 50,
   "id": "3f12ab72",
   "metadata": {},
   "outputs": [],
   "source": [
    "loans = loans.iloc[:,2:]\n",
    "\n",
    "loans = pd.get_dummies(loans, columns=['loan_type', 'age', 'loan_limit', 'gender', 'approv_in_adv', 'loan_type', 'loan_purpose', 'credit_worthiness', 'open_credit', 'business_or_commercial', 'term', 'neg_ammortization', 'interest_only', 'lump_sum_payment', 'construction_type', 'occupancy_type', 'secured_by', 'total_units', 'credit_type', 'co-applicant_credit_type', 'submission_of_application', 'region', 'security_type'], drop_first = True)"
   ]
  },
  {
   "cell_type": "code",
   "execution_count": 51,
   "id": "45cedafa",
   "metadata": {},
   "outputs": [],
   "source": [
    "from sklearn.model_selection import train_test_split\n",
    "\n",
    "import pandas as pd\n",
    "\n",
    "##loans = pd.read_csv('D:/R/Studia/Kaggle/loand default praca/gotowe.csv', sep=';')\n",
    "\n",
    "\n",
    "\n",
    "del loans['interest_rate_spread']\n",
    "del loans['rate_of_interest']\n",
    "del loans['upfront_charges']\n",
    "del loans['credit_score']"
   ]
  },
  {
   "cell_type": "markdown",
   "id": "656937ab",
   "metadata": {},
   "source": [
    "### PCA"
   ]
  },
  {
   "cell_type": "code",
   "execution_count": 55,
   "id": "b7bbc8d8",
   "metadata": {},
   "outputs": [],
   "source": [
    "import pandas as pd\n",
    "import matplotlib.pyplot as plt\n",
    "import statsmodels.api as sm\n",
    "from sklearn.decomposition import PCA\n",
    "\n",
    "X= loans\n",
    "X = loans.drop('status', axis=1)\n",
    "y = loans['status']\n",
    "\n",
    "def select_n_important_vars(X, y, n):\n",
    "    X = X\n",
    "    y = y\n",
    "    pca = PCA(n_components=n, random_state=1)\n",
    "    pca.fit(X)\n",
    "    important_vars = list(X.columns[:n])\n",
    "    important_vars_df = pd.DataFrame({'Variable': important_vars, 'Explained Variance': pca.explained_variance_ratio_[:n]})\n",
    "    plt.figure(figsize=(10,6))\n",
    "    plt.scatter(pca.components_[0], pca.components_[1])\n",
    "    plt.xlabel('PC1')\n",
    "    plt.ylabel('PC2')\n",
    "    plt.title('First Two Principal Components')\n",
    "    plt.show()\n",
    "    plt.figure(figsize=(10,6))\n",
    "    plt.bar(important_vars_df['Variable'], important_vars_df['Explained Variance'])\n",
    "    plt.xlabel('Variables')\n",
    "    plt.ylabel('Explained Variance')\n",
    "    plt.title('Explained Variance of Variables')\n",
    "    plt.xticks(rotation=90)\n",
    "    plt.show()\n",
    "    return important_vars_df\n"
   ]
  },
  {
   "cell_type": "code",
   "execution_count": 57,
   "id": "3429ee57",
   "metadata": {},
   "outputs": [
    {
     "data": {
      "image/png": "[encoded data removed]",
      "text/plain": [
       "<Figure size 720x432 with 1 Axes>"
      ]
     },
     "metadata": {
      "needs_background": "light"
     },
     "output_type": "display_data"
    },
    {
     "data": {
      "image/png": "[encoded data removed]",
      "text/plain": [
       "<Figure size 720x432 with 1 Axes>"
      ]
     },
     "metadata": {
      "needs_background": "light"
     },
     "output_type": "display_data"
    },
    {
     "name": "stdout",
     "output_type": "stream",
     "text": [
      "         Variable  Explained Variance\n",
      "0     loan_amount        8.973909e-01\n",
      "1  property_value        1.024007e-01\n",
      "2          income        2.083970e-04\n",
      "3             ltv        8.493915e-09\n",
      "4           dtir1        5.651913e-10\n"
     ]
    }
   ],
   "source": [
    "selected_vars = select_n_important_vars(X, y, 5)\n",
    "print(selected_vars)"
   ]
  },
  {
   "cell_type": "markdown",
   "id": "4bfb2216",
   "metadata": {},
   "source": [
    "### Istotność cech (drzewo)"
   ]
  },
  {
   "cell_type": "code",
   "execution_count": 52,
   "id": "9532c8ce",
   "metadata": {
    "scrolled": true
   },
   "outputs": [],
   "source": [
    "import numpy as np\n",
    "\n",
    "from sklearn.ensemble import RandomForestClassifier\n",
    "import matplotlib.pyplot as plt\n",
    "\n",
    "X= loans\n",
    "X = loans.drop('status', axis=1)\n",
    "y = loans['status']\n",
    "\n",
    "feat_labels = X.columns\n",
    "\n",
    "forest = RandomForestClassifier(n_estimators=500, random_state=1)\n",
    "\n",
    "forest.fit(X, y)\n",
    "importances = forest.feature_importances_[forest.feature_importances_>=0.05]\n",
    "\n",
    "indices = np.argsort(importances)[::-1]"
   ]
  },
  {
   "cell_type": "code",
   "execution_count": 53,
   "id": "4567179a",
   "metadata": {},
   "outputs": [
    {
     "data": {
      "image/png": "[encoded data removed]",
      "text/plain": [
       "<Figure size 432x288 with 1 Axes>"
      ]
     },
     "metadata": {
      "needs_background": "light"
     },
     "output_type": "display_data"
    }
   ],
   "source": [
    "plt.title('Istotność cech')\n",
    "plt.bar(feat_labels[indices],\n",
    "        importances[indices],\n",
    "       align='center')\n",
    "plt.xticks(\n",
    "          feat_labels[indices], rotation=90)\n",
    "plt.tight_layout()\n",
    "plt.show()"
   ]
  },
  {
   "cell_type": "markdown",
   "id": "a1a235ce",
   "metadata": {},
   "source": [
    "### Przygotowanie zbiorów"
   ]
  },
  {
   "cell_type": "code",
   "execution_count": 58,
   "id": "af4c3926",
   "metadata": {},
   "outputs": [],
   "source": [
    "#X = loans[['loan_amount', 'property_value', 'income', 'ltv', 'dtir1', 'loan_type_type2', 'loan_type_type3', 'age_35-44']]\n",
    "X = loans[['loan_amount', 'property_value', 'income', 'ltv', 'dtir1']]\n",
    "#X = loans.drop('status', axis=1)\n",
    "y = loans['status']\n",
    "\n",
    "\n",
    "X_train, X_test, y_train, y_test = train_test_split(X, y, test_size=0.2, random_state=1)\n",
    "X_train, X_val, y_train, y_val = train_test_split(X_train, y_train, test_size=0.25, random_state=1)\n"
   ]
  },
  {
   "cell_type": "code",
   "execution_count": 59,
   "id": "3df477e4",
   "metadata": {},
   "outputs": [
    {
     "data": {
      "text/plain": [
       "RandomForestClassifier(random_state=1)"
      ]
     },
     "execution_count": 59,
     "metadata": {},
     "output_type": "execute_result"
    }
   ],
   "source": [
    "from sklearn.pipeline import Pipeline\n",
    "from sklearn.decomposition import PCA\n",
    "from sklearn.preprocessing import StandardScaler\n",
    "from sklearn.linear_model import LogisticRegression\n",
    "from sklearn.svm import SVC\n",
    "from sklearn.ensemble import RandomForestClassifier\n",
    "\n",
    "\n",
    "\n",
    "# Define the pipeline\n",
    "pipeline = Pipeline([\n",
    "    #('pca', PCA(n_components=5)),\n",
    "    ('scaler', StandardScaler()),\n",
    "])\n",
    "# Fit the pipeline to the training data\n",
    "pipeline.fit(X_train, y_train)\n",
    "\n",
    "# Transform the training, testing, and validation data\n",
    "X_train_transformed = pipeline.transform(X_train)\n",
    "X_test_transformed = pipeline.transform(X_test)\n",
    "X_val_transformed = pipeline.transform(X_val)\n",
    "\n",
    "# Logistic Regression\n",
    "logistic_regression = LogisticRegression(random_state=1)\n",
    "logistic_regression.fit(X_train_transformed, y_train)\n",
    "\n",
    "# SVM\n",
    "svm = SVC(random_state=1)\n",
    "svm.fit(X_train_transformed, y_train)\n",
    "\n",
    "# Random Forest\n",
    "random_forest = RandomForestClassifier(random_state=1)\n",
    "random_forest.fit(X_train_transfobrmed, y_train)\n"
   ]
  },
  {
   "cell_type": "code",
   "execution_count": 60,
   "id": "34b73e8d",
   "metadata": {},
   "outputs": [
    {
     "name": "stdout",
     "output_type": "stream",
     "text": [
      "Dokładność regresji logitycznej: 0.75\n",
      "Dokładność SVM: 0.84\n",
      "Dokładność drzew losowych: 0.86\n"
     ]
    },
    {
     "data": {
      "image/png": "[encoded data removed]",
      "text/plain": [
       "<Figure size 432x288 with 1 Axes>"
      ]
     },
     "metadata": {
      "needs_background": "light"
     },
     "output_type": "display_data"
    }
   ],
   "source": [
    "#### do pracy\n",
    "\n",
    "import matplotlib.pyplot as plt\n",
    "import numpy as np\n",
    "from sklearn.metrics import accuracy_score, roc_auc_score, roc_curve\n",
    "\n",
    "# Logistic Regression\n",
    "logistic_regression_pred = logistic_regression.predict(X_val_transformed)\n",
    "logistic_regression_accuracy = accuracy_score(y_val, logistic_regression_pred)\n",
    "logistic_regression_probs = logistic_regression.predict_proba(X_val_transformed)[:, 1]\n",
    "logistic_regression_auc = roc_auc_score(y_val, logistic_regression_probs)\n",
    "logistic_regression_fpr, logistic_regression_tpr, _ = roc_curve(y_val, logistic_regression_probs)\n",
    "\n",
    "# SVM\n",
    "svm_pred = svm.predict(X_val_transformed)\n",
    "svm_accuracy = accuracy_score(y_val, svm_pred)\n",
    "svm_probs = svm.decision_function(X_val_transformed)\n",
    "svm_auc = roc_auc_score(y_val, svm_probs)\n",
    "svm_fpr, svm_tpr, _ = roc_curve(y_val, svm_probs)\n",
    "\n",
    "# Random Forest\n",
    "random_forest_pred = random_forest.predict(X_val_transformed)\n",
    "random_forest_accuracy = accuracy_score(y_val, random_forest_pred)\n",
    "random_forest_probs = random_forest.predict_proba(X_val_transformed)[:, 1]\n",
    "random_forest_auc = roc_auc_score(y_val, random_forest_probs)\n",
    "random_forest_fpr, random_forest_tpr, _ = roc_curve(y_val, random_forest_probs)\n",
    "\n",
    "print(f\"Dokładność regresji logitycznej: {logistic_regression_accuracy:.2f}\")\n",
    "print(f\"Dokładność SVM: {svm_accuracy:.2f}\")\n",
    "print(f\"Dokładność drzew losowych: {random_forest_accuracy:.2f}\")\n",
    "\n",
    "# krzywe ROC\n",
    "plt.step(logistic_regression_fpr, logistic_regression_tpr, marker='.', label=f'Regresja logistyczna (AUC = {logistic_regression_auc:.2f})')\n",
    "plt.step(svm_fpr, svm_tpr, marker='.', label=f'SVM (AUC = {svm_auc:.2f})')\n",
    "plt.step(random_forest_fpr, random_forest_tpr, marker='.', label=f'Drzewa losowe (AUC = {random_forest_auc:.2f})')\n",
    "\n",
    "# Customize the plot\n",
    "plt.xlabel('Fałszywie Pozytywne')\n",
    "plt.ylabel('Prawdziwie pozytywne')\n",
    "plt.legend()\n",
    "plt.show()\n"
   ]
  },
  {
   "cell_type": "code",
   "execution_count": 61,
   "id": "ef5074ea",
   "metadata": {},
   "outputs": [
    {
     "name": "stdout",
     "output_type": "stream",
     "text": [
      "Logistic Regression Accuracy: 0.75\n",
      "SVM Accuracy: 0.84\n",
      "Random Forest Accuracy: 0.86\n"
     ]
    },
    {
     "data": {
      "image/png": "[encoded data removed]",
      "text/plain": [
       "<Figure size 864x576 with 1 Axes>"
      ]
     },
     "metadata": {
      "needs_background": "light"
     },
     "output_type": "display_data"
    }
   ],
   "source": [
    "print(f\"Logistic Regression Accuracy: {logistic_regression_accuracy:.2f}\")\n",
    "print(f\"SVM Accuracy: {svm_accuracy:.2f}\")\n",
    "print(f\"Random Forest Accuracy: {random_forest_accuracy:.2f}\")\n",
    "\n",
    "plt.figure(figsize=(12, 8))\n",
    "plt.plot([0, 1], [0, 1], linestyle=\"--\")\n",
    "plt.step(logistic_regression_fpr, logistic_regression_tpr, where='post', label=f'Regresja logistyczna (AUC = {logistic_regression_auc:.2f})')\n",
    "plt.step(svm_fpr, svm_tpr, where='post', label=f'SVM (AUC = {svm_auc:.2f})')\n",
    "plt.step(random_forest_fpr, random_forest_tpr, where='post', label=f'Algorytm drzew losowych (AUC = {random_forest_auc:.2f})')\n",
    "\n",
    "plt.xlabel('Wsp. Fałszywie Pozytywnych')\n",
    "plt.ylabel('Wsp. Prawdziwie Pozytywnych')\n",
    "plt.legend() \n",
    "plt.show()"
   ]
  },
  {
   "cell_type": "markdown",
   "id": "20726315",
   "metadata": {},
   "source": [
    "### Modele wytrenowane po parametryzacji"
   ]
  },
  {
   "cell_type": "code",
   "execution_count": 63,
   "id": "218f4bfb",
   "metadata": {},
   "outputs": [
    {
     "data": {
      "text/plain": [
       "RandomForestClassifier(n_estimators=366, random_state=1)"
      ]
     },
     "execution_count": 63,
     "metadata": {},
     "output_type": "execute_result"
    }
   ],
   "source": [
    "### do pracy\n",
    "\n",
    "from sklearn.pipeline import Pipeline\n",
    "from sklearn.decomposition import PCA\n",
    "from sklearn.preprocessing import StandardScaler\n",
    "from sklearn.linear_model import LogisticRegression\n",
    "from sklearn.svm import SVC\n",
    "from sklearn.ensemble import RandomForestClassifier\n",
    "\n",
    "#95.64024188211937\n",
    "\n",
    "pipeline = Pipeline([\n",
    "    #('pca', PCA(n_components=5)),\n",
    "    ('scaler', StandardScaler()),\n",
    "])\n",
    "\n",
    "pipeline.fit(X_train, y_train)\n",
    "\n",
    "# Transform the training, testing, and validation data\n",
    "X_train_transformed = pipeline.transform(X_train)\n",
    "X_test_transformed = pipeline.transform(X_test)\n",
    "X_val_transformed = pipeline.transform(X_val)\n",
    "\n",
    "# Logistic Regression\n",
    "logistic_regression = LogisticRegression(C=95.64024188211937,random_state=1)\n",
    "logistic_regression.fit(X_train_transformed, y_train)\n",
    "\n",
    "# SVM\n",
    "svm = SVC(C= 98.73124596400379, random_state=1)\n",
    "svm.fit(X_train_transformed, y_train)\n",
    "\n",
    "# Random Forest\n",
    "random_forest = RandomForestClassifier(n_estimators=366, random_state=1)\n",
    "random_forest.fit(X_train_transformed, y_train)"
   ]
  },
  {
   "cell_type": "code",
   "execution_count": 64,
   "id": "a145f1f8",
   "metadata": {
    "scrolled": true
   },
   "outputs": [
    {
     "name": "stdout",
     "output_type": "stream",
     "text": [
      "Dokładność regresji logitycznej: 0.75\n",
      "Dokładność SVM: 0.86\n",
      "Dokładność drzew losowych: 0.86\n"
     ]
    },
    {
     "data": {
      "image/png": "[encoded data removed]",
      "text/plain": [
       "<Figure size 432x288 with 1 Axes>"
      ]
     },
     "metadata": {
      "needs_background": "light"
     },
     "output_type": "display_data"
    }
   ],
   "source": [
    "#### do pracy\n",
    "\n",
    "import matplotlib.pyplot as plt\n",
    "import numpy as np\n",
    "from sklearn.metrics import accuracy_score, roc_auc_score, roc_curve\n",
    "\n",
    "# Logistic Regression\n",
    "logistic_regression_pred = logistic_regression.predict(X_val_transformed)\n",
    "logistic_regression_accuracy = accuracy_score(y_val, logistic_regression_pred)\n",
    "logistic_regression_probs = logistic_regression.predict_proba(X_val_transformed)[:, 1]\n",
    "logistic_regression_auc = roc_auc_score(y_val, logistic_regression_probs)\n",
    "logistic_regression_fpr, logistic_regression_tpr, _ = roc_curve(y_val, logistic_regression_probs)\n",
    "\n",
    "# SVM\n",
    "svm_pred = svm.predict(X_val_transformed)\n",
    "svm_accuracy = accuracy_score(y_val, svm_pred)\n",
    "svm_probs = svm.decision_function(X_val_transformed)\n",
    "svm_auc = roc_auc_score(y_val, svm_probs)\n",
    "svm_fpr, svm_tpr, _ = roc_curve(y_val, svm_probs)\n",
    "\n",
    "# Random Forest\n",
    "random_forest_pred = random_forest.predict(X_val_transformed)\n",
    "random_forest_accuracy = accuracy_score(y_val, random_forest_pred)\n",
    "random_forest_probs = random_forest.predict_proba(X_val_transformed)[:, 1]\n",
    "random_forest_auc = roc_auc_score(y_val, random_forest_probs)\n",
    "random_forest_fpr, random_forest_tpr, _ = roc_curve(y_val, random_forest_probs)\n",
    "\n",
    "print(f\"Dokładność regresji logitycznej: {logistic_regression_accuracy:.2f}\")\n",
    "print(f\"Dokładność SVM: {svm_accuracy:.2f}\")\n",
    "print(f\"Dokładność drzew losowych: {random_forest_accuracy:.2f}\")\n",
    "\n",
    "# krzywe ROC\n",
    "plt.step(logistic_regression_fpr, logistic_regression_tpr, marker='.', label=f'Regresja logistyczna (AUC = {logistic_regression_auc:.2f})')\n",
    "plt.step(svm_fpr, svm_tpr, marker='.', label=f'SVM (AUC = {svm_auc:.2f})')\n",
    "plt.step(random_forest_fpr, random_forest_tpr, marker='.', label=f'Drzewa losowe (AUC = {random_forest_auc:.2f})')\n",
    "\n",
    "# Customize the plot\n",
    "plt.xlabel('Fałszywie Pozytywne')\n",
    "plt.ylabel('Prawdziwie pozytywne')\n",
    "plt.legend()\n",
    "plt.show()\n"
   ]
  },
  {
   "cell_type": "code",
   "execution_count": 65,
   "id": "9d889397",
   "metadata": {},
   "outputs": [
    {
     "name": "stdout",
     "output_type": "stream",
     "text": [
      "Logistic Regression Accuracy: 0.75\n",
      "SVM Accuracy: 0.86\n",
      "Random Forest Accuracy: 0.86\n"
     ]
    },
    {
     "data": {
      "image/png": "[encoded data removed]",
      "text/plain": [
       "<Figure size 864x576 with 1 Axes>"
      ]
     },
     "metadata": {
      "needs_background": "light"
     },
     "output_type": "display_data"
    }
   ],
   "source": [
    "print(f\"Logistic Regression Accuracy: {logistic_regression_accuracy:.2f}\")\n",
    "print(f\"SVM Accuracy: {svm_accuracy:.2f}\")\n",
    "print(f\"Random Forest Accuracy: {random_forest_accuracy:.2f}\")\n",
    "\n",
    "plt.figure(figsize=(12, 8))\n",
    "plt.plot([0, 1], [0, 1], linestyle=\"--\")\n",
    "plt.step(logistic_regression_fpr, logistic_regression_tpr, where='post', label=f'Regresja logistyczna (AUC = {logistic_regression_auc:.2f})')\n",
    "plt.step(svm_fpr, svm_tpr, where='post', label=f'SVM (AUC = {svm_auc:.2f})')\n",
    "plt.step(random_forest_fpr, random_forest_tpr, where='post', label=f'Algorytm drzew losowych (AUC = {random_forest_auc:.2f})')\n",
    "\n",
    "plt.xlabel('Wsp. Fałszywie Pozytywnych')\n",
    "plt.ylabel('Wsp. Prawdziwie Pozytywnych')\n",
    "plt.legend() \n",
    "plt.show()"
   ]
  },
  {
   "cell_type": "markdown",
   "id": "f7e727fd",
   "metadata": {},
   "source": [
    "#### koniec\n"
   ]
  },
  {
   "cell_type": "markdown",
   "id": "8e126226",
   "metadata": {},
   "source": [
    "### Kroswalidacja"
   ]
  },
  {
   "cell_type": "code",
   "execution_count": 62,
   "id": "f1a56247",
   "metadata": {},
   "outputs": [
    {
     "name": "stdout",
     "output_type": "stream",
     "text": [
      "Classifier: LogisticRegression\n",
      "Dokładność: 0.75\n",
      "AUC: 0.58\n",
      "Classifier: RandomForestClassifier\n",
      "Dokładność: 0.85\n",
      "AUC: 0.80\n",
      "Classifier: SVC\n",
      "Dokładność: 0.82\n",
      "AUC: 0.77\n"
     ]
    },
    {
     "data": {
      "image/png": "[encoded data removed]",
      "text/plain": [
       "<Figure size 432x288 with 1 Axes>"
      ]
     },
     "metadata": {
      "needs_background": "light"
     },
     "output_type": "display_data"
    }
   ],
   "source": [
    "import pandas as pd\n",
    "import numpy as np\n",
    "import matplotlib.pyplot as plt\n",
    "from sklearn.preprocessing import StandardScaler\n",
    "from sklearn.linear_model import LogisticRegression\n",
    "from sklearn.ensemble import RandomForestClassifier\n",
    "from sklearn.svm import SVC\n",
    "from sklearn.model_selection import cross_val_score, cross_val_predict, KFold\n",
    "from sklearn.metrics import accuracy_score, roc_auc_score, roc_curve\n",
    "\n",
    "X_kros, X_kros_t, y_kros, y_kros_t = train_test_split(X_train, y_train, test_size=0.9, random_state=1)\n",
    "\n",
    "scaler = StandardScaler()\n",
    "X_scaled = scaler.fit_transform(X_kros)\n",
    "\n",
    "\n",
    "\n",
    "\n",
    "classifiers = [\n",
    "    LogisticRegression(random_state=1),\n",
    "    RandomForestClassifier(random_state=1),\n",
    "    SVC(probability=True, random_state=1)\n",
    "]\n",
    "\n",
    "\n",
    "for classifier in classifiers:\n",
    "    kfold = KFold(n_splits=5)\n",
    "    y_probs = cross_val_predict(classifier, X_scaled, y_kros, method=\"predict_proba\")[:, 1]\n",
    "    fpr, tpr, thresholds = roc_curve(y_kros, y_probs)\n",
    "    auc = roc_auc_score(y_kros, y_probs)\n",
    "    accuracy = cross_val_score(classifier, X_scaled, y_kros, cv=kfold).mean()\n",
    "    print(f\"Classifier: {classifier.__class__.__name__}\")\n",
    "    print(f\"Dokładność: {accuracy:.2f}\")\n",
    "    print(f\"AUC: {auc:.2f}\")\n",
    "    plt.plot(fpr, tpr, label=f\"{classifier.__class__.__name__}, AUC={auc:.2f}\")\n",
    "\n",
    "\n",
    "plt.plot([0, 1], [0, 1], linestyle=\"--\")\n",
    "plt.xlabel(\"Wsp. Fałszywie Negatywnych\")\n",
    "plt.ylabel(\"Wsp. Prawdziwie Pozytywnych\")\n",
    "#plt.title(\"ROC Curves\")\n",
    "plt.legend()\n",
    "plt.show()\n"
   ]
  },
  {
   "cell_type": "markdown",
   "id": "4f5bed5c",
   "metadata": {},
   "source": [
    "### Korelacja"
   ]
  },
  {
   "cell_type": "code",
   "execution_count": null,
   "id": "b78eee95",
   "metadata": {},
   "outputs": [],
   "source": [
    "corr_df = X.corr()\n",
    "\n",
    "import seaborn as sns\n",
    "\n",
    "import matplotlib.pyplot as plt\n",
    "\n",
    "fig, ax = plt.subplots(figsize=(8,8))\n",
    "sns.heatmap(corr_df, annot=True, cmap='coolwarm', ax=ax)"
   ]
  },
  {
   "cell_type": "markdown",
   "id": "11e02927",
   "metadata": {},
   "source": [
    "### Strojenie hiperparametrów"
   ]
  },
  {
   "cell_type": "code",
   "execution_count": null,
   "id": "0fabbbd5",
   "metadata": {
    "scrolled": false
   },
   "outputs": [],
   "source": [
    "####do pracy\n",
    "\n",
    "from sklearn.model_selection import RandomizedSearchCV\n",
    "from scipy.stats import uniform\n",
    "\n",
    "pipeline = Pipeline([\n",
    "    #('pca', PCA(n_components=5)),\n",
    "    ('scaler', StandardScaler()),\n",
    "])\n",
    "\n",
    "pipeline.fit(X_train, y_train)\n",
    "\n",
    "\n",
    "X_train_transformed = pipeline.transform(X_train)\n",
    "X_test_transformed = pipeline.transform(X_test)\n",
    "X_val_transformed = pipeline.transform(X_val)\n",
    "\n",
    "\n",
    "param_dist_logistic_regression = {'C': uniform(0.001, 100)}\n",
    "param_dist_svm = {'C': uniform(0.001, 100)} #'kernel': ['linear', 'rbf', 'poly']}\n",
    "param_dist_random_forest = {'n_estimators': uniform(100, 400)}\n",
    "\n",
    "\n",
    "random_search_logistic_regression = RandomizedSearchCV(logistic_regression, param_distributions=param_dist_logistic_regression, n_iter=100, cv=5)\n",
    "random_search_logistic_regression.fit(X_scaled, y_kros)\n",
    "\n",
    "\n",
    "random_search_svm = RandomizedSearchCV(svm, param_distributions=param_dist_svm, n_iter=100, cv=5)\n",
    "random_search_svm.fit(X_scaled, y_kros)\n",
    "\n",
    "param_dist_random_forest = {'n_estimators': [int(x) for x in np.linspace(start = 100, stop = 500, num = 10)]}\n",
    "random_search_random_forest = RandomizedSearchCV(random_forest, param_distributions=param_dist_random_forest, n_iter=100, cv=5)\n",
    "random_search_random_forest.fit(X_scaled, y_kros)\n",
    "\n",
    "\n",
    "\n",
    "print(\"Najlepszy parametr regresji logistycznej: \", random_search_logistic_regression.best_params_)\n",
    "print(\"Najlpeszy score: \", random_search_logistic_regression.best_score_)\n",
    "\n",
    "\n",
    "print(\"Najlepszy parametr SVM: \", random_search_svm.best_params_)\n",
    "print(\"Najlepszy score SVM: \", random_search_svm.best_score_)\n",
    "\n",
    "\n",
    "print(\"Najlepszy parametr dla drzew losowych: \", random_search_random_forest.best_params_)\n",
    "print(\"Najlepszy score: \", random_search_random_forest.best_score_)\n",
    "\n",
    "\n",
    "import matplotlib.pyplot as plt\n",
    "from sklearn import metrics\n",
    "\n",
    "\n",
    "y_pred_logistic_regression = random_search_logistic_regression.predict(X_val_transformed)\n",
    "y_pred_svm = random_search_svm.predict(X_val_transformed)\n",
    "y_pred_random_forest = random_search_random_forest.predict(X_val_transformed)\n",
    "\n",
    "\n",
    "accuracy_logistic_regression = metrics.accuracy_score(y_val, y_pred_logistic_regression)\n",
    "accuracy_svm = metrics.accuracy_score(y_val, y_pred_svm)\n",
    "accuracy_random_forest = metrics.accuracy_score(y_val, y_pred_random_forest)\n",
    "\n",
    "print(\"Dokładność regresji: \", accuracy_logistic_regression)\n",
    "print(\"Dokładność SVM: \", accuracy_svm)\n",
    "print(\"Dokładność drzew losowych: \", accuracy_random_forest)"
   ]
  }
 ],
 "metadata": {
  "kernelspec": {
   "display_name": "Python 3 (ipykernel)",
   "language": "python",
   "name": "python3"
  },
  "language_info": {
   "codemirror_mode": {
    "name": "ipython",
    "version": 3
   },
   "file_extension": ".py",
   "mimetype": "text/x-python",
   "name": "python",
   "nbconvert_exporter": "python",
   "pygments_lexer": "ipython3",
   "version": "3.9.12"
  }
 },
 "nbformat": 4,
 "nbformat_minor": 5
}
